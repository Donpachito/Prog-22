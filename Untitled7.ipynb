{
  "nbformat": 4,
  "nbformat_minor": 0,
  "metadata": {
    "colab": {
      "name": "Untitled7.ipynb",
      "provenance": []
    },
    "kernelspec": {
      "name": "python3",
      "display_name": "Python 3"
    },
    "language_info": {
      "name": "python"
    }
  },
  "cells": [
    {
      "cell_type": "code",
      "source": [
        "N=input(\"nombre:\")\n",
        "Ed=input(\"edad:\")\n",
        "Dir=input(\"dirección:\")\n",
        "Tel=input(\"teléfono:\")\n",
        "dir={N:[Ed,Dir,Tel]}\n",
        "print(dir)\n",
        "print(N +\" tiene \"+Ed+\" años, vive en \"+Dir+\" y su número de teléfono es \"+Tel+\".\")"
      ],
      "metadata": {
        "id": "NWe9OLIirj4x"
      },
      "execution_count": null,
      "outputs": []
    },
    {
      "cell_type": "code",
      "source": [
        "F_A=input(\"fecha actual:dd/mm/aaaa: \")\n",
        "F_N=input(\"fecha de naciemiento:dd/mm/aaaa: \")\n",
        "s=[]\n",
        "a=\"\"\n",
        "for i in F_A:\n",
        "  if i==\"/\" or i==\" \" or i==\",\" or i==\".\":\n",
        "    s.append(a)\n",
        "    a=\"\"\n",
        "  else:\n",
        "    a=a+i\n",
        "s.append(a)\n",
        "s1=[]\n",
        "a1=\"\"\n",
        "for i in F_N:\n",
        "  if i==\"/\" or i==\" \" or i==\",\" or i==\".\":\n",
        "    s1.append(a1)\n",
        "    a1=\"\"\n",
        "  else:\n",
        "    a1=a1+i\n",
        "s1.append(a1)\n",
        "\n",
        "diasd=int(s[0])-int(s1[0])\n",
        "diasm=(int(s[1])-int(s1[1]))*30\n",
        "diasa=(int(s[2])-int(s1[2]))*360\n",
        "dias=diasd+diasm+diasa\n",
        "print(dias)"
      ],
      "metadata": {
        "colab": {
          "base_uri": "https://localhost:8080/"
        },
        "id": "Mfn0hECI1inS",
        "outputId": "98c8d8b9-7bf5-486a-f13a-054435dee130"
      },
      "execution_count": 43,
      "outputs": [
        {
          "output_type": "stream",
          "name": "stdout",
          "text": [
            "fecha actual:dd/mm/aaaa: 12/10/2002\n",
            "fecha de naciemiento:dd/mm/aaaa: 10/10/2000\n",
            "722\n"
          ]
        }
      ]
    },
    {
      "cell_type": "code",
      "source": [
        ""
      ],
      "metadata": {
        "id": "OXmCXv_G2Wxf"
      },
      "execution_count": null,
      "outputs": []
    }
  ]
}